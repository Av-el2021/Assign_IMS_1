{
  "nbformat": 4,
  "nbformat_minor": 0,
  "metadata": {
    "colab": {
      "name": "Adding_new_Products.ipynb",
      "provenance": []
    },
    "kernelspec": {
      "display_name": "Python 3",
      "language": "python",
      "name": "python3"
    },
    "language_info": {
      "codemirror_mode": {
        "name": "ipython",
        "version": 3
      },
      "file_extension": ".py",
      "mimetype": "text/x-python",
      "name": "python",
      "nbconvert_exporter": "python",
      "pygments_lexer": "ipython3",
      "version": "3.8.3"
    }
  },
  "cells": [
    {
      "cell_type": "markdown",
      "metadata": {
        "id": "j9rSMgKytN9V"
      },
      "source": [
        "## Read Data from JSON"
      ]
    },
    {
      "cell_type": "code",
      "metadata": {
        "id": "wlQdKmzYpRok"
      },
      "source": [
        "import json\n",
        "fd = open(\"record.json\",'r')\n",
        "r = fd.read()\n",
        "fd.close()\n",
        "\n",
        "record = json.loads(r)"
      ],
      "execution_count": 49,
      "outputs": []
    },
    {
      "cell_type": "code",
      "metadata": {
        "colab": {
          "base_uri": "https://localhost:8080/"
        },
        "id": "N8fCrfQHqlUN",
        "outputId": "b3baee07-9e4b-4da4-924f-3dc4142c5f84"
      },
      "source": [
        "record"
      ],
      "execution_count": 50,
      "outputs": [
        {
          "output_type": "execute_result",
          "data": {
            "text/plain": [
              "{'1001': {'name': 'Choco Cake', 'pr': 100, 'qn': 34},\n",
              " '1002': {'name': 'Milk Cake', 'pr': 800, 'qn': 100},\n",
              " '1003': {'name': 'Drink', 'pr': 85, 'qn': 100},\n",
              " '1004': {'name': 'Candy', 'pr': 5, 'qn': 1000},\n",
              " '1005': {'name': 'Pen', 'pr': 20, 'qn': 100},\n",
              " '1006': {'name': 'Phone', 'pr': 50000, 'qn': 10},\n",
              " '1007': {'name': 'Mic', 'pr': 1500, 'qn': 0},\n",
              " '1008': {'name': 'Case', 'pr': 599, 'qn': 5},\n",
              " '1009': {'name': 'Keyboard', 'pr': 1999, 'qn': 10},\n",
              " '1010': {'name': 'waffer', 'pr': 20, 'qn': 1000},\n",
              " '1011': {'name': 'mineral_water', 'pr': 90, 'qn': 100},\n",
              " '1012': {'name': 'Chocolate', 'pr': 20, 'qn': 60},\n",
              " '1013': {'name': 'Nuts', 'pr': 10, 'qn': 500},\n",
              " '1014': {'name': 'Milk', 'pr': 60, 'qn': 10},\n",
              " '1015': {'name': 'Speaker', 'pr': 5000, 'qn': 10},\n",
              " '1016': {'name': 'Decoration', 'pr': 20, 'qn': 50},\n",
              " '1017': {'name': 'Lays', 'pr': 20, 'qn': 90},\n",
              " '1018': {'name': 'Namkeen', 'pr': 23, 'qn': 100},\n",
              " '1019': {'name': 'Biscuits', 'pr': 40, 'qn': 100},\n",
              " '1021': {'name': 'A', 'pr': 67, 'qn': 10},\n",
              " '1022': {'name': 'C', 'pr': 22, 'qn': 11},\n",
              " '1023': {'name': 'D', 'pr': 7, 'qn': 9},\n",
              " '1024': {'name': 'E', 'pr': 8, 'qn': 18},\n",
              " '1025': {'name': '6', 'pr': 6, 'qn': 9},\n",
              " '1026': {'name': 'Q', 'pr': 10, 'qn': 8},\n",
              " '1027': {'name': 'W', 'pr': 6, 'qn': 10},\n",
              " '1028': {'name': 'GH', 'pr': 109, 'qn': 8},\n",
              " '1029': {'name': 'JK', 'pr': 10, 'qn': 9},\n",
              " '1030': {'name': 'K', 'pr': 18, 'qn': 10},\n",
              " '8': {'name': 'G', 'pr': 7, 'qn': 9},\n",
              " 'B': {'name': 'BB', 'pr': 20, 'qn': 10},\n",
              " 'Shampoo sachet': {'name': '2', 'pr': 1, 'qn': 3}}"
            ]
          },
          "metadata": {},
          "execution_count": 50
        }
      ]
    },
    {
      "cell_type": "markdown",
      "metadata": {
        "id": "fNniKChHtFsH"
      },
      "source": [
        "## Add New Item into Inventory"
      ]
    },
    {
      "cell_type": "code",
      "metadata": {
        "colab": {
          "base_uri": "https://localhost:8080/"
        },
        "id": "f61BridoqxZN",
        "outputId": "4919a5d7-b839-41df-ec08-b4f39107e984"
      },
      "source": [
        "prod_id = str(input(\"Enter product id:\"))\n",
        "name = str(input(\"Enter name:\"))\n",
        "pr = int(input(\"Enter price:\"))\n",
        "qn = int(input(\"Enter quantity:\"))\n",
        "\n",
        "record[prod_id] = {'name': name, 'pr': pr, 'qn': qn}\n",
        "\n",
        "js = json.dumps(record)\n",
        "\n",
        "fd = open(\"record.json\",'w')\n",
        "fd.write(js)\n",
        "fd.close()"
      ],
      "execution_count": null,
      "outputs": [
        {
          "name": "stdout",
          "output_type": "stream",
          "text": [
            "Enter product id:1009\n",
            "Enter name:Keyboard\n",
            "Enter price:1999\n",
            "Enter quantity:10\n"
          ]
        }
      ]
    },
    {
      "cell_type": "code",
      "metadata": {
        "id": "IBrtCd_FF4yB"
      },
      "source": [
        "##To enter 30 items in inventory at once\n",
        "# i = 10\n",
        "# for i in range(10,22):\n",
        "#   prod_id = str(input(\"Enter product id:\"))\n",
        "#   name = str(input(\"Enter name:\"))\n",
        "#   pr = int(input(\"Enter price:\"))\n",
        "#   qn = int(input(\"Enter quantity:\"))\n",
        "\n",
        "#   record[prod_id] = {'name': name, 'pr': pr, 'qn': qn}\n",
        "\n",
        "#   js = json.dumps(record)\n",
        "\n",
        "#   fd = open(\"record.json\",'w')\n",
        "#   fd.write(js)\n",
        "#   i+=1\n",
        "#   if(i == 23):\n",
        "#     fd.close()\n",
        "#     exit()"
      ],
      "execution_count": 57,
      "outputs": []
    },
    {
      "cell_type": "code",
      "metadata": {
        "id": "VrCM2zH5WEnu"
      },
      "source": [
        "count = 0"
      ],
      "execution_count": 54,
      "outputs": []
    },
    {
      "cell_type": "code",
      "metadata": {
        "colab": {
          "base_uri": "https://localhost:8080/"
        },
        "id": "1dzJyIKcAbEi",
        "outputId": "994794f4-84ba-47f9-8e23-f175bfa6925e"
      },
      "source": [
        "if (count == 0):\n",
        "  prod_id = str(input(\"Enter product id:\"))\n",
        "  if prod_id not in(record.keys()):\n",
        "    count+=1\n",
        "    name = str(input(\"Enter name:\"))\n",
        "    pr = int(input(\"Enter price:\"))\n",
        "    qn = int(input(\"Enter quantity:\"))\n",
        "\n",
        "    record[prod_id] = {'name': name, 'pr': pr, 'qn': qn}\n",
        "\n",
        "    js = json.dumps(record)\n",
        "\n",
        "    fd = open(\"record.json\",'w')\n",
        "    fd.write(js)\n",
        "    fd.close()\n",
        "  else:\n",
        "    print(\"This prod already exists in the Inventory\")\n",
        "    print(\"Do you want to add more qty\")\n",
        "    usr_ip = str(input())\n",
        "    if (usr_ip == 'Y' or 'Yes'):\n",
        "      qty_new = int(input('Enter the new qty to be added'))\n",
        "      record[prod_id] = {'name': name, 'pr': pr, 'qn': qn + qty_new}\n",
        "      print(\"Qty added\")\n",
        "      js = json.dumps(record)\n",
        "\n",
        "      fd = open(\"record.json\",'w')\n",
        "      fd.write(js)\n",
        "      fd.close()\n",
        "      count = 0\n",
        "    elif (usr_ip == 'N' or 'No'):\n",
        "      count = 0\n",
        "\n",
        "    else:\n",
        "      print(\"Invalid Input Please enter again\")\n",
        "      count = 0"
      ],
      "execution_count": 55,
      "outputs": [
        {
          "output_type": "stream",
          "name": "stdout",
          "text": [
            "Enter product id:1030\n",
            "This prod already exists in the Inventory\n",
            "Do you want to add more qty\n",
            "y\n",
            "Enter the new qty to be added20\n",
            "Qty added\n"
          ]
        }
      ]
    },
    {
      "cell_type": "code",
      "metadata": {
        "colab": {
          "base_uri": "https://localhost:8080/"
        },
        "id": "n2Wv6q2QW57Y",
        "outputId": "cfa9392e-41ab-4e86-bb69-2d477aa9b500"
      },
      "source": [
        "record"
      ],
      "execution_count": 56,
      "outputs": [
        {
          "output_type": "execute_result",
          "data": {
            "text/plain": [
              "{'1001': {'name': 'Choco Cake', 'pr': 100, 'qn': 34},\n",
              " '1002': {'name': 'Milk Cake', 'pr': 800, 'qn': 100},\n",
              " '1003': {'name': 'Drink', 'pr': 85, 'qn': 100},\n",
              " '1004': {'name': 'Candy', 'pr': 5, 'qn': 1000},\n",
              " '1005': {'name': 'Pen', 'pr': 20, 'qn': 100},\n",
              " '1006': {'name': 'Phone', 'pr': 50000, 'qn': 10},\n",
              " '1007': {'name': 'Mic', 'pr': 1500, 'qn': 0},\n",
              " '1008': {'name': 'Case', 'pr': 599, 'qn': 5},\n",
              " '1009': {'name': 'Keyboard', 'pr': 1999, 'qn': 10},\n",
              " '1010': {'name': 'waffer', 'pr': 20, 'qn': 1000},\n",
              " '1011': {'name': 'mineral_water', 'pr': 90, 'qn': 100},\n",
              " '1012': {'name': 'Chocolate', 'pr': 20, 'qn': 60},\n",
              " '1013': {'name': 'Nuts', 'pr': 10, 'qn': 500},\n",
              " '1014': {'name': 'Milk', 'pr': 60, 'qn': 10},\n",
              " '1015': {'name': 'Speaker', 'pr': 5000, 'qn': 10},\n",
              " '1016': {'name': 'Decoration', 'pr': 20, 'qn': 50},\n",
              " '1017': {'name': 'Lays', 'pr': 20, 'qn': 90},\n",
              " '1018': {'name': 'Namkeen', 'pr': 23, 'qn': 100},\n",
              " '1019': {'name': 'Biscuits', 'pr': 40, 'qn': 100},\n",
              " '1021': {'name': 'A', 'pr': 67, 'qn': 10},\n",
              " '1022': {'name': 'C', 'pr': 22, 'qn': 11},\n",
              " '1023': {'name': 'D', 'pr': 7, 'qn': 9},\n",
              " '1024': {'name': 'E', 'pr': 8, 'qn': 18},\n",
              " '1025': {'name': '6', 'pr': 6, 'qn': 9},\n",
              " '1026': {'name': 'Q', 'pr': 10, 'qn': 8},\n",
              " '1027': {'name': 'W', 'pr': 6, 'qn': 10},\n",
              " '1028': {'name': 'GH', 'pr': 109, 'qn': 8},\n",
              " '1029': {'name': 'JK', 'pr': 10, 'qn': 9},\n",
              " '1030': {'name': 'JK', 'pr': 10, 'qn': 30},\n",
              " '8': {'name': 'G', 'pr': 7, 'qn': 9},\n",
              " 'B': {'name': 'BB', 'pr': 20, 'qn': 10},\n",
              " 'Shampoo sachet': {'name': '2', 'pr': 1, 'qn': 3}}"
            ]
          },
          "metadata": {},
          "execution_count": 56
        }
      ]
    }
  ]
}