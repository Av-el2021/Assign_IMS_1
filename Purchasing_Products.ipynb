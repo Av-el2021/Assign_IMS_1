{
 "cells": [
  {
   "cell_type": "markdown",
   "metadata": {
    "id": "R6NHgAYkxqSl"
   },
   "source": [
    "## Read Inventory"
   ]
  },
  {
   "cell_type": "code",
   "execution_count": 1,
   "metadata": {
    "id": "jkJT24jqug9n"
   },
   "outputs": [],
   "source": [
    "import json\n",
    "import time\n",
    "\n",
    "fd = open(\"record.json\",'r')\n",
    "r = fd.read()\n",
    "fd.close()\n",
    "\n",
    "records = json.loads(r)"
   ]
  },
  {
   "cell_type": "code",
   "execution_count": 2,
   "metadata": {
    "colab": {
     "base_uri": "https://localhost:8080/"
    },
    "id": "CcLYokrlus6z",
    "outputId": "525ffebc-7e32-463b-b0a4-2e6e9fc73f7c"
   },
   "outputs": [
    {
     "data": {
      "text/plain": [
       "{'1001': {'name': 'Choco Cake', 'qn': 26, 'pr': 100},\n",
       " '1002': {'name': 'Milk Cake', 'pr': 800, 'qn': 74},\n",
       " '1003': {'name': 'Drink', 'pr': 85, 'qn': 100},\n",
       " '1004': {'name': 'Candy', 'pr': 5, 'qn': 980},\n",
       " '1005': {'name': 'Pen', 'pr': 20, 'qn': 100},\n",
       " '1006': {'name': 'Phone', 'pr': 50000, 'qn': 10},\n",
       " '1007': {'name': 'Mic', 'pr': 1500, 'qn': 0},\n",
       " '1008': {'name': 'Case', 'pr': 599, 'qn': 5},\n",
       " '1009': {'name': 'Keyboard', 'pr': 1999, 'qn': 10},\n",
       " '1010': {'name': 'waffer', 'pr': 20, 'qn': 1000},\n",
       " '1011': {'name': 'mineral_water', 'pr': 90, 'qn': 100},\n",
       " '1012': {'name': 'Chocolate', 'pr': 20, 'qn': 60},\n",
       " '1013': {'name': 'Nuts', 'pr': 10, 'qn': 500},\n",
       " '1014': {'name': 'Milk', 'pr': 60, 'qn': 10},\n",
       " '1015': {'name': 'Speaker', 'pr': 5000, 'qn': 10},\n",
       " '1016': {'name': 'Decoration', 'pr': 20, 'qn': 50},\n",
       " '1017': {'name': 'Lays', 'pr': 20, 'qn': 90},\n",
       " '1018': {'name': 'Namkeen', 'pr': 23, 'qn': 100},\n",
       " '1019': {'name': 'Biscuits', 'pr': 40, 'qn': 100},\n",
       " '1021': {'name': 'A', 'pr': 67, 'qn': 10},\n",
       " '1022': {'name': 'BB', 'pr': 20, 'qn': 10},\n",
       " '1023': {'name': 'C', 'pr': 22, 'qn': 11},\n",
       " '1024': {'name': 'D', 'pr': 7, 'qn': 9},\n",
       " '1025': {'name': 'E', 'pr': 8, 'qn': 18},\n",
       " '1026': {'name': '6', 'pr': 6, 'qn': 9},\n",
       " '1027': {'name': 'G', 'pr': 7, 'qn': 9},\n",
       " '1028': {'name': 'Q', 'pr': 10, 'qn': 8},\n",
       " '1029': {'name': 'W', 'pr': 6, 'qn': 10},\n",
       " '1030': {'name': 'GH', 'pr': 109, 'qn': 8},\n",
       " '1031': {'name': 'JK', 'pr': 10, 'qn': 9}}"
      ]
     },
     "execution_count": 2,
     "metadata": {},
     "output_type": "execute_result"
    }
   ],
   "source": [
    "records"
   ]
  },
  {
   "cell_type": "code",
   "execution_count": 3,
   "metadata": {},
   "outputs": [],
   "source": [
    "sales_cnt = 0\n",
    "i = 1"
   ]
  },
  {
   "cell_type": "markdown",
   "metadata": {
    "id": "WI5f7HTuxwzb"
   },
   "source": [
    "## Purchasing item and updatig_sales data in sales.json file"
   ]
  },
  {
   "cell_type": "code",
   "execution_count": 4,
   "metadata": {},
   "outputs": [
    {
     "name": "stdout",
     "output_type": "stream",
     "text": [
      "Please Press 'Y' to proceed for purchasing item from the inventory\n",
      "Press N to exit\n",
      "y\n",
      "-----------------------------------------------------\n",
      "Please enter the requested details and values to proceed with sales: 1\n",
      "Enter the product_Id: 1002\n",
      "Enter the quantity to be purchased: 4\n",
      "Product_Name:  Milk Cake\n",
      "Price:  800\n",
      "-------------------------------------------------------\n",
      "Billing Amount:  3200\n",
      "-------------------------------------------------------\n",
      "Payment_Processing\n",
      "Amount paid\n",
      "Do you want to continue purchasing?\n",
      "y\n",
      "Please Press 'Y' to proceed for purchasing item from the inventory\n",
      "Press N to exit\n",
      "y\n",
      "-----------------------------------------------------\n",
      "Please enter the requested details and values to proceed with sales: 2\n",
      "Enter the product_Id: 1006\n",
      "Enter the quantity to be purchased: 20\n",
      "Product_Name:  Phone\n",
      "Price:  50000\n",
      "-------------------------------------------------------\n",
      "Billing Amount:  1000000\n",
      "-------------------------------------------------------\n",
      "Payment_Processing\n",
      "Amount paid\n",
      "Do you want to continue purchasing?\n",
      "y\n",
      "Please Press 'Y' to proceed for purchasing item from the inventory\n",
      "Press N to exit\n",
      "y\n",
      "-----------------------------------------------------\n",
      "Please enter the requested details and values to proceed with sales: 3\n",
      "Enter the product_Id: 1003\n",
      "Enter the quantity to be purchased: 10\n",
      "Product_Name:  Drink\n",
      "Price:  85\n",
      "-------------------------------------------------------\n",
      "Billing Amount:  850\n",
      "-------------------------------------------------------\n",
      "Payment_Processing\n",
      "Amount paid\n",
      "Do you want to continue purchasing?\n",
      "y\n",
      "Please Press 'Y' to proceed for purchasing item from the inventory\n",
      "Press N to exit\n",
      "y\n",
      "-----------------------------------------------------\n",
      "Please enter the requested details and values to proceed with sales: 4\n",
      "Enter the product_Id: 1004\n",
      "Enter the quantity to be purchased: 20\n",
      "Product_Name:  Candy\n",
      "Price:  5\n",
      "-------------------------------------------------------\n",
      "Billing Amount:  100\n",
      "-------------------------------------------------------\n",
      "Payment_Processing\n",
      "Amount paid\n",
      "Do you want to continue purchasing?\n",
      "y\n",
      "Please Press 'Y' to proceed for purchasing item from the inventory\n",
      "Press N to exit\n",
      "1010\n",
      "-----------------------------------------------------\n",
      "Please Press 'Y' to proceed for purchasing item from the inventory\n",
      "Press N to exit\n",
      "y\n",
      "-----------------------------------------------------\n",
      "Please enter the requested details and values to proceed with sales: 5\n",
      "Enter the product_Id: 1010\n",
      "Enter the quantity to be purchased: 22\n",
      "Product_Name:  waffer\n",
      "Price:  20\n",
      "-------------------------------------------------------\n",
      "Billing Amount:  440\n",
      "-------------------------------------------------------\n",
      "Payment_Processing\n",
      "Amount paid\n",
      "Do you want to continue purchasing?\n",
      "y\n",
      "Please Press 'Y' to proceed for purchasing item from the inventory\n",
      "Press N to exit\n",
      "y\n",
      "-----------------------------------------------------\n",
      "Please enter the requested details and values to proceed with sales: 6\n",
      "Enter the product_Id: 1012\n",
      "Enter the quantity to be purchased: 10\n",
      "Product_Name:  Chocolate\n",
      "Price:  20\n",
      "-------------------------------------------------------\n",
      "Billing Amount:  200\n",
      "-------------------------------------------------------\n",
      "Payment_Processing\n",
      "Amount paid\n",
      "Do you want to continue purchasing?\n",
      "y\n",
      "Please Press 'Y' to proceed for purchasing item from the inventory\n",
      "Press N to exit\n",
      "n\n",
      "-----------------------------------------------------\n",
      "Thanks for Visiting!!\n"
     ]
    }
   ],
   "source": [
    "while(i!= 0):\n",
    "    print(\"Please Press 'Y' to proceed for purchasing item from the inventory\")\n",
    "    print(\"Press N to exit\")\n",
    "    u_ip = input()\n",
    "    print(\"-----------------------------------------------------\")\n",
    "    if (u_ip == 'Y' or u_ip =='y'):\n",
    "        sales_cnt += 1\n",
    "        print(\"Please enter the requested details and values to proceed with sales:\",sales_cnt)\n",
    "        ui_prod  = str(input(\"Enter the product_Id: \"))\n",
    "        ui_quant = int(input(\"Enter the quantity to be purchased: \"))\n",
    "\n",
    "        print(\"Product_Name: \", records[ui_prod]['name'])\n",
    "        print(\"Price: \", records[ui_prod]['pr'])\n",
    "        print(\"-------------------------------------------------------\")\n",
    "        print(\"Billing Amount: \", records[ui_prod]['pr'] * ui_quant)\n",
    "        print(\"-------------------------------------------------------\")\n",
    "        print(\"Payment_Processing\")\n",
    "        time.sleep(2)\n",
    "        print(\"Amount paid\")\n",
    "        records[ui_prod]['qn'] = records[ui_prod]['qn'] - ui_quant\n",
    "        sales = {sales_cnt : {'prod' : ui_prod, 'qn' : ui_quant, 'amount': records[ui_prod]['pr'] * ui_quant}}\n",
    "        sale = json.dumps(sales)\n",
    "        fd = open(\"sales.json\",'a')\n",
    "        fd.write(sale)\n",
    "        print(\"Do you want to continue purchasing?\")\n",
    "        print(u_ip)\n",
    "        count = 1\n",
    "\n",
    "    elif (u_ip == 'N' or u_ip =='n'):\n",
    "        print(\"Thanks for Visiting!!\")\n",
    "        fd.close()\n",
    "        i = 0"
   ]
  },
  {
   "cell_type": "markdown",
   "metadata": {
    "id": "3h8S8JBVx1_D"
   },
   "source": [
    "## Update Inventory after purchase"
   ]
  },
  {
   "cell_type": "code",
   "execution_count": 5,
   "metadata": {
    "id": "TO68fUvvwzXt"
   },
   "outputs": [],
   "source": [
    "js = json.dumps(records)\n",
    "\n",
    "fd = open(\"record.json\",'w')\n",
    "fd.write(js)\n",
    "fd.close()"
   ]
  }
 ],
 "metadata": {
  "colab": {
   "name": "Purchasing Products",
   "provenance": []
  },
  "kernelspec": {
   "display_name": "Python 3",
   "language": "python",
   "name": "python3"
  },
  "language_info": {
   "codemirror_mode": {
    "name": "ipython",
    "version": 3
   },
   "file_extension": ".py",
   "mimetype": "text/x-python",
   "name": "python",
   "nbconvert_exporter": "python",
   "pygments_lexer": "ipython3",
   "version": "3.8.3"
  }
 },
 "nbformat": 4,
 "nbformat_minor": 1
}
